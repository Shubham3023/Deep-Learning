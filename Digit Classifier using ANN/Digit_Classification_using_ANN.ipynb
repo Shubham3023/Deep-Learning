{
  "nbformat": 4,
  "nbformat_minor": 0,
  "metadata": {
    "colab": {
      "provenance": []
    },
    "kernelspec": {
      "name": "python3",
      "display_name": "Python 3"
    },
    "language_info": {
      "name": "python"
    }
  },
  "cells": [
    {
      "cell_type": "code",
      "source": [
        "#pip install keras-tuner"
      ],
      "metadata": {
        "id": "bwHbr20Lok7H"
      },
      "execution_count": 57,
      "outputs": []
    },
    {
      "cell_type": "code",
      "source": [
        "import matplotlib.pyplot as plt"
      ],
      "metadata": {
        "id": "3JlkjHE37cEQ"
      },
      "execution_count": 58,
      "outputs": []
    },
    {
      "cell_type": "code",
      "source": [
        "import tensorflow\n",
        "from tensorflow import keras\n",
        "from tensorflow.keras import Sequential\n",
        "from tensorflow.keras.layers import Dense, Flatten\n",
        "from tensorflow.keras import optimizers\n",
        "from keras_tuner import RandomSearch\n",
        "\n",
        "from sklearn.metrics import accuracy_score, confusion_matrix"
      ],
      "metadata": {
        "id": "EZADgYio7cGt"
      },
      "execution_count": 59,
      "outputs": []
    },
    {
      "cell_type": "code",
      "source": [
        "### Loading the dataset\n",
        "\n",
        "(X_train, y_train), (X_test, y_test) = keras.datasets.mnist.load_data()\n",
        "print(f\"Shape of X train: {X_train.shape} and y train: {y_train.shape} \")\n",
        "print(f\"Shape of X test: {X_test.shape} and y test: {y_test.shape} \")"
      ],
      "metadata": {
        "colab": {
          "base_uri": "https://localhost:8080/"
        },
        "id": "GHtGVWNP7cJO",
        "outputId": "d7bfa933-853e-4045-a04e-919fb8bbd726"
      },
      "execution_count": 10,
      "outputs": [
        {
          "output_type": "stream",
          "name": "stdout",
          "text": [
            "Downloading data from https://storage.googleapis.com/tensorflow/tf-keras-datasets/mnist.npz\n",
            "11490434/11490434 [==============================] - 0s 0us/step\n",
            "Shape of X train: (60000, 28, 28) and y train: (60000,) \n",
            "Shape of X test: (10000, 28, 28) and y test: (10000,) \n"
          ]
        }
      ]
    },
    {
      "cell_type": "code",
      "source": [
        "### First five digits in train dataset\n",
        "y_train[0:5]"
      ],
      "metadata": {
        "colab": {
          "base_uri": "https://localhost:8080/"
        },
        "id": "pmIBBYNz7cMT",
        "outputId": "984f330d-ca71-4f0a-f73a-f832846e12f0"
      },
      "execution_count": 43,
      "outputs": [
        {
          "output_type": "execute_result",
          "data": {
            "text/plain": [
              "array([5, 0, 4, 1, 9], dtype=uint8)"
            ]
          },
          "metadata": {},
          "execution_count": 43
        }
      ]
    },
    {
      "cell_type": "code",
      "source": [
        "### lets us see the first five digit images in train dataset\n",
        "def image_show(data):\n",
        "  l=[]\n",
        "  for i in range(0,5):\n",
        "    single_image = data[i]\n",
        "    single_image.shape\n",
        "    single_image = single_image.reshape(28,28)\n",
        "    l.append(single_image)\n",
        "  return l\n",
        "\n",
        "  l = image_show(X_train)"
      ],
      "metadata": {
        "id": "gFaa3oM6olAX"
      },
      "execution_count": 37,
      "outputs": []
    },
    {
      "cell_type": "code",
      "source": [
        "plt.imshow(l[0])"
      ],
      "metadata": {
        "colab": {
          "base_uri": "https://localhost:8080/",
          "height": 282
        },
        "id": "iTOlMuitolDK",
        "outputId": "e1dc294a-44c5-47c0-f313-6736cae348ba"
      },
      "execution_count": 38,
      "outputs": [
        {
          "output_type": "execute_result",
          "data": {
            "text/plain": [
              "<matplotlib.image.AxesImage at 0x7ffafb1be250>"
            ]
          },
          "metadata": {},
          "execution_count": 38
        },
        {
          "output_type": "display_data",
          "data": {
            "text/plain": [
              "<Figure size 432x288 with 1 Axes>"
            ],
            "image/png": "[encoded data removed]"
          },
          "metadata": {
            "needs_background": "light"
          }
        }
      ]
    },
    {
      "cell_type": "code",
      "source": [
        "plt.imshow(l[1])"
      ],
      "metadata": {
        "colab": {
          "base_uri": "https://localhost:8080/",
          "height": 282
        },
        "id": "mOHXWwv8_aTn",
        "outputId": "b2a32a61-c71a-42a1-afe5-e1d2edd2e140"
      },
      "execution_count": 39,
      "outputs": [
        {
          "output_type": "execute_result",
          "data": {
            "text/plain": [
              "<matplotlib.image.AxesImage at 0x7ffafb186fa0>"
            ]
          },
          "metadata": {},
          "execution_count": 39
        },
        {
          "output_type": "display_data",
          "data": {
            "text/plain": [
              "<Figure size 432x288 with 1 Axes>"
            ],
            "image/png": "[encoded data removed]"
          },
          "metadata": {
            "needs_background": "light"
          }
        }
      ]
    },
    {
      "cell_type": "code",
      "source": [
        "plt.imshow(l[2])"
      ],
      "metadata": {
        "colab": {
          "base_uri": "https://localhost:8080/",
          "height": 282
        },
        "id": "UpyLDhdQ_aWV",
        "outputId": "e22af771-17bc-47f9-871c-61bb35852be6"
      },
      "execution_count": 40,
      "outputs": [
        {
          "output_type": "execute_result",
          "data": {
            "text/plain": [
              "<matplotlib.image.AxesImage at 0x7ffafb158d60>"
            ]
          },
          "metadata": {},
          "execution_count": 40
        },
        {
          "output_type": "display_data",
          "data": {
            "text/plain": [
              "<Figure size 432x288 with 1 Axes>"
            ],
            "image/png": "[encoded data removed]"
          },
          "metadata": {
            "needs_background": "light"
          }
        }
      ]
    },
    {
      "cell_type": "code",
      "source": [
        "plt.imshow(l[3])"
      ],
      "metadata": {
        "colab": {
          "base_uri": "https://localhost:8080/",
          "height": 282
        },
        "id": "2zsKxGYf_aZH",
        "outputId": "cc5e8482-af35-4eda-87cf-d7966089edcc"
      },
      "execution_count": 41,
      "outputs": [
        {
          "output_type": "execute_result",
          "data": {
            "text/plain": [
              "<matplotlib.image.AxesImage at 0x7ffafb12bb20>"
            ]
          },
          "metadata": {},
          "execution_count": 41
        },
        {
          "output_type": "display_data",
          "data": {
            "text/plain": [
              "<Figure size 432x288 with 1 Axes>"
            ],
            "image/png": "[encoded data removed]"
          },
          "metadata": {
            "needs_background": "light"
          }
        }
      ]
    },
    {
      "cell_type": "code",
      "source": [
        "plt.imshow(l[4])"
      ],
      "metadata": {
        "colab": {
          "base_uri": "https://localhost:8080/",
          "height": 282
        },
        "id": "ptPg-eLHolFg",
        "outputId": "f42970ae-9753-45ed-df42-b8fed5a6a8d0"
      },
      "execution_count": 42,
      "outputs": [
        {
          "output_type": "execute_result",
          "data": {
            "text/plain": [
              "<matplotlib.image.AxesImage at 0x7ffafb07e8e0>"
            ]
          },
          "metadata": {},
          "execution_count": 42
        },
        {
          "output_type": "display_data",
          "data": {
            "text/plain": [
              "<Figure size 432x288 with 1 Axes>"
            ],
            "image/png": "[encoded data removed]"
          },
          "metadata": {
            "needs_background": "light"
          }
        }
      ]
    },
    {
      "cell_type": "code",
      "source": [
        "### Lets us convert the pixel values in train and test data between 0 and 1.\n",
        "### for this we will divide each pixel value with highest pixel value i.e. 255\n",
        "\n",
        "X_train = X_train/255\n",
        "X_test = X_test/255"
      ],
      "metadata": {
        "id": "4ohM8zeU-pGl"
      },
      "execution_count": 44,
      "outputs": []
    },
    {
      "cell_type": "code",
      "source": [
        "model = Sequential()\n",
        "\n",
        "### Flattening the 3d array to id array\n",
        "model.add(Flatten(input_shape=(28,28)))\n",
        "model.add(Dense(units=128, activation='relu'))\n",
        "model.add(Dense(units=10, activation='softmax'))\n",
        "\n",
        "model.summary()"
      ],
      "metadata": {
        "colab": {
          "base_uri": "https://localhost:8080/"
        },
        "id": "jF6RDlEPD1tG",
        "outputId": "ebef12a0-b563-4929-f4c0-eb3ed39fa3a2"
      },
      "execution_count": 45,
      "outputs": [
        {
          "output_type": "stream",
          "name": "stdout",
          "text": [
            "Model: \"sequential\"\n",
            "_________________________________________________________________\n",
            " Layer (type)                Output Shape              Param #   \n",
            "=================================================================\n",
            " flatten (Flatten)           (None, 784)               0         \n",
            "                                                                 \n",
            " dense (Dense)               (None, 128)               100480    \n",
            "                                                                 \n",
            " dense_1 (Dense)             (None, 10)                1290      \n",
            "                                                                 \n",
            "=================================================================\n",
            "Total params: 101,770\n",
            "Trainable params: 101,770\n",
            "Non-trainable params: 0\n",
            "_________________________________________________________________\n"
          ]
        }
      ]
    },
    {
      "cell_type": "code",
      "source": [
        "model.compile(loss='sparse_categorical_crossentropy', optimizer='adam',  metrics=['accuracy'])"
      ],
      "metadata": {
        "id": "0yiy9xdhD1wb"
      },
      "execution_count": 48,
      "outputs": []
    },
    {
      "cell_type": "code",
      "source": [
        "model_history=model.fit(X_train, y_train, batch_size=10, epochs=10, validation_split=0.25)"
      ],
      "metadata": {
        "colab": {
          "base_uri": "https://localhost:8080/"
        },
        "id": "JYVwoiUxD1z0",
        "outputId": "bc67f537-9999-4250-b8d4-266d528fecb1"
      },
      "execution_count": 49,
      "outputs": [
        {
          "output_type": "stream",
          "name": "stdout",
          "text": [
            "Epoch 1/10\n",
            "4500/4500 [==============================] - 14s 3ms/step - loss: 0.2365 - accuracy: 0.9311 - val_loss: 0.1356 - val_accuracy: 0.9618\n",
            "Epoch 2/10\n",
            "4500/4500 [==============================] - 11s 3ms/step - loss: 0.1023 - accuracy: 0.9693 - val_loss: 0.1219 - val_accuracy: 0.9642\n",
            "Epoch 3/10\n",
            "4500/4500 [==============================] - 12s 3ms/step - loss: 0.0712 - accuracy: 0.9778 - val_loss: 0.1016 - val_accuracy: 0.9698\n",
            "Epoch 4/10\n",
            "4500/4500 [==============================] - 12s 3ms/step - loss: 0.0522 - accuracy: 0.9835 - val_loss: 0.1022 - val_accuracy: 0.9723\n",
            "Epoch 5/10\n",
            "4500/4500 [==============================] - 12s 3ms/step - loss: 0.0401 - accuracy: 0.9876 - val_loss: 0.0998 - val_accuracy: 0.9725\n",
            "Epoch 6/10\n",
            "4500/4500 [==============================] - 11s 2ms/step - loss: 0.0309 - accuracy: 0.9902 - val_loss: 0.1031 - val_accuracy: 0.9737\n",
            "Epoch 7/10\n",
            "4500/4500 [==============================] - 12s 3ms/step - loss: 0.0251 - accuracy: 0.9915 - val_loss: 0.1131 - val_accuracy: 0.9749\n",
            "Epoch 8/10\n",
            "4500/4500 [==============================] - 11s 2ms/step - loss: 0.0214 - accuracy: 0.9928 - val_loss: 0.1068 - val_accuracy: 0.9739\n",
            "Epoch 9/10\n",
            "4500/4500 [==============================] - 12s 3ms/step - loss: 0.0173 - accuracy: 0.9940 - val_loss: 0.1200 - val_accuracy: 0.9743\n",
            "Epoch 10/10\n",
            "4500/4500 [==============================] - 11s 3ms/step - loss: 0.0147 - accuracy: 0.9947 - val_loss: 0.1279 - val_accuracy: 0.9733\n"
          ]
        }
      ]
    },
    {
      "cell_type": "code",
      "source": [
        "y_prob = model.predict(X_test)"
      ],
      "metadata": {
        "colab": {
          "base_uri": "https://localhost:8080/"
        },
        "id": "SKpcNSq6D13f",
        "outputId": "a6912392-cb02-478f-b012-780040cc0766"
      },
      "execution_count": 50,
      "outputs": [
        {
          "output_type": "stream",
          "name": "stdout",
          "text": [
            "313/313 [==============================] - 0s 1ms/step\n"
          ]
        }
      ]
    },
    {
      "cell_type": "code",
      "source": [
        "### Getting the predicted image digit\n",
        "y_pred=y_prob.argmax(axis=1)"
      ],
      "metadata": {
        "id": "VzgmF-9jD16Y"
      },
      "execution_count": 52,
      "outputs": []
    },
    {
      "cell_type": "code",
      "source": [
        "score = accuracy_score(y_test, y_pred)\n",
        "score"
      ],
      "metadata": {
        "colab": {
          "base_uri": "https://localhost:8080/"
        },
        "id": "lQ5pX6UrD1-X",
        "outputId": "1cab2c71-2717-42c5-f8d5-45f3a08643b1"
      },
      "execution_count": 54,
      "outputs": [
        {
          "output_type": "execute_result",
          "data": {
            "text/plain": [
              "0.9776"
            ]
          },
          "metadata": {},
          "execution_count": 54
        }
      ]
    },
    {
      "cell_type": "code",
      "source": [
        "confusion_mat = confusion_matrix(y_test, y_pred)\n",
        "confusion_mat"
      ],
      "metadata": {
        "colab": {
          "base_uri": "https://localhost:8080/"
        },
        "id": "PoE05Ye0D2BB",
        "outputId": "ad513b8d-3d63-4a05-d24f-33a1141ff86f"
      },
      "execution_count": 55,
      "outputs": [
        {
          "output_type": "execute_result",
          "data": {
            "text/plain": [
              "array([[ 968,    0,    1,    1,    1,    0,    3,    1,    2,    3],\n",
              "       [   0, 1129,    1,    0,    0,    1,    1,    2,    1,    0],\n",
              "       [   3,    4, 1005,    2,    3,    0,    4,    6,    4,    1],\n",
              "       [   0,    1,    5,  983,    0,    8,    0,    5,    5,    3],\n",
              "       [   2,    0,    0,    1,  951,    0,    5,    1,    1,   21],\n",
              "       [   1,    0,    0,    6,    1,  873,    4,    1,    4,    2],\n",
              "       [   4,    2,    1,    1,    3,    5,  941,    0,    1,    0],\n",
              "       [   0,    3,    9,    4,    1,    0,    0, 1002,    4,    5],\n",
              "       [   3,    1,    6,    6,    2,    7,    1,    4,  939,    5],\n",
              "       [   0,    3,    0,    4,    4,    4,    0,    9,    0,  985]])"
            ]
          },
          "metadata": {},
          "execution_count": 55
        }
      ]
    },
    {
      "cell_type": "code",
      "source": [],
      "metadata": {
        "id": "4Lskmd3vO07e"
      },
      "execution_count": null,
      "outputs": []
    },
    {
      "cell_type": "code",
      "source": [
        "def build_model(hp):\n",
        "  model= Sequential()\n",
        "  model.add(Flatten(input_shape=(28,28)))\n",
        "  counter=0\n",
        "  \n",
        "  for i in range(hp.Int('num_layers', min_value=1, max_value=10)):\n",
        "    if counter==0:\n",
        "      model.add(\n",
        "          Dense(\n",
        "              hp.Int('units'+str(i), min_value=8, max_value=128, step=8),\n",
        "              activation=hp.Choice('activation'+str(i), values=['relu', 'tanh', 'sigmoid'])))\n",
        "    else:\n",
        "      model.add(\n",
        "          Dense(\n",
        "              hp.Int('units'+str(i), min_value=8, max_value=128, step=8),\n",
        "              activation=hp.Choice('activation'+str(i), values=['relu', 'tanh', 'sigmoid'])\n",
        "              ))\n",
        "    counter+=1\n",
        "  model.add(Dense(10, activation='softmax'))\n",
        "\n",
        "  optimizer=hp.Choice('optimizer', values=['adam', 'rmsprop', 'sgd', 'nadam', 'adadelta'])\n",
        "\n",
        "  model.compile(optimizer= optimizer, loss='sparse_categorical_crossentropy', metrics=['accuracy'])\n",
        "  return model"
      ],
      "metadata": {
        "id": "8lOR2HEqD2Ej"
      },
      "execution_count": 70,
      "outputs": []
    },
    {
      "cell_type": "code",
      "source": [
        "tuner= RandomSearch(build_model, objective='val_accuracy', max_trials=3, directory='dir_2')"
      ],
      "metadata": {
        "id": "ZwI2x7ZID2Hm"
      },
      "execution_count": 71,
      "outputs": []
    },
    {
      "cell_type": "code",
      "source": [
        "tuner.search(X_train, y_train, epochs=5, validation_data=(X_test, y_test))"
      ],
      "metadata": {
        "colab": {
          "base_uri": "https://localhost:8080/"
        },
        "id": "kakI8vXxD2Lk",
        "outputId": "ef079ea9-a026-4da6-e45f-1ff3f56bc7e7"
      },
      "execution_count": 72,
      "outputs": [
        {
          "output_type": "stream",
          "name": "stdout",
          "text": [
            "Trial 3 Complete [00h 00m 42s]\n",
            "val_accuracy: 0.1264999955892563\n",
            "\n",
            "Best val_accuracy So Far: 0.968500018119812\n",
            "Total elapsed time: 00h 02m 07s\n"
          ]
        }
      ]
    },
    {
      "cell_type": "code",
      "source": [
        "tuner.get_best_hyperparameters()[0].values"
      ],
      "metadata": {
        "colab": {
          "base_uri": "https://localhost:8080/"
        },
        "id": "3uzr8Xp2D2OK",
        "outputId": "f91cbf95-ee32-4756-c1c2-df080c4f5a5e"
      },
      "execution_count": 73,
      "outputs": [
        {
          "output_type": "execute_result",
          "data": {
            "text/plain": [
              "{'num_layers': 9,\n",
              " 'units0': 120,\n",
              " 'activation0': 'relu',\n",
              " 'optimizer': 'adam',\n",
              " 'units1': 32,\n",
              " 'activation1': 'sigmoid',\n",
              " 'units2': 8,\n",
              " 'activation2': 'relu',\n",
              " 'units3': 8,\n",
              " 'activation3': 'relu',\n",
              " 'units4': 8,\n",
              " 'activation4': 'relu',\n",
              " 'units5': 8,\n",
              " 'activation5': 'relu',\n",
              " 'units6': 8,\n",
              " 'activation6': 'relu',\n",
              " 'units7': 8,\n",
              " 'activation7': 'relu',\n",
              " 'units8': 8,\n",
              " 'activation8': 'relu'}"
            ]
          },
          "metadata": {},
          "execution_count": 73
        }
      ]
    },
    {
      "cell_type": "code",
      "source": [
        "model=tuner.get_best_models(num_models=1)[0]"
      ],
      "metadata": {
        "id": "PKDY1D56KjYE"
      },
      "execution_count": 74,
      "outputs": []
    },
    {
      "cell_type": "code",
      "source": [
        "model.fit(X_train, y_train, epochs=40, initial_epoch=5, validation_data=(X_test, y_test))"
      ],
      "metadata": {
        "colab": {
          "base_uri": "https://localhost:8080/"
        },
        "id": "DJbrqy27KjbM",
        "outputId": "ffc3255a-4514-4278-9e7b-586d737503ec"
      },
      "execution_count": 75,
      "outputs": [
        {
          "output_type": "stream",
          "name": "stdout",
          "text": [
            "Epoch 6/40\n",
            "1875/1875 [==============================] - 9s 4ms/step - loss: 0.0841 - accuracy: 0.9772 - val_loss: 0.1469 - val_accuracy: 0.9652\n",
            "Epoch 7/40\n",
            "1875/1875 [==============================] - 6s 3ms/step - loss: 0.0739 - accuracy: 0.9792 - val_loss: 0.1402 - val_accuracy: 0.9695\n",
            "Epoch 8/40\n",
            "1875/1875 [==============================] - 7s 4ms/step - loss: 0.0624 - accuracy: 0.9827 - val_loss: 0.1499 - val_accuracy: 0.9675\n",
            "Epoch 9/40\n",
            "1875/1875 [==============================] - 6s 3ms/step - loss: 0.0588 - accuracy: 0.9836 - val_loss: 0.1462 - val_accuracy: 0.9689\n",
            "Epoch 10/40\n",
            "1875/1875 [==============================] - 7s 4ms/step - loss: 0.0519 - accuracy: 0.9856 - val_loss: 0.1598 - val_accuracy: 0.9670\n",
            "Epoch 11/40\n",
            "1875/1875 [==============================] - 6s 3ms/step - loss: 0.0470 - accuracy: 0.9865 - val_loss: 0.1488 - val_accuracy: 0.9702\n",
            "Epoch 12/40\n",
            "1875/1875 [==============================] - 7s 4ms/step - loss: 0.0440 - accuracy: 0.9879 - val_loss: 0.1583 - val_accuracy: 0.9691\n",
            "Epoch 13/40\n",
            "1875/1875 [==============================] - 6s 3ms/step - loss: 0.0396 - accuracy: 0.9892 - val_loss: 0.1633 - val_accuracy: 0.9694\n",
            "Epoch 14/40\n",
            "1875/1875 [==============================] - 7s 4ms/step - loss: 0.0374 - accuracy: 0.9895 - val_loss: 0.1595 - val_accuracy: 0.9728\n",
            "Epoch 15/40\n",
            "1875/1875 [==============================] - 6s 3ms/step - loss: 0.0381 - accuracy: 0.9891 - val_loss: 0.1538 - val_accuracy: 0.9733\n",
            "Epoch 16/40\n",
            "1875/1875 [==============================] - 7s 4ms/step - loss: 0.0315 - accuracy: 0.9909 - val_loss: 0.1678 - val_accuracy: 0.9694\n",
            "Epoch 17/40\n",
            "1875/1875 [==============================] - 7s 4ms/step - loss: 0.0329 - accuracy: 0.9905 - val_loss: 0.1590 - val_accuracy: 0.9693\n",
            "Epoch 18/40\n",
            "1875/1875 [==============================] - 6s 3ms/step - loss: 0.0283 - accuracy: 0.9919 - val_loss: 0.1814 - val_accuracy: 0.9701\n",
            "Epoch 19/40\n",
            "1875/1875 [==============================] - 7s 4ms/step - loss: 0.0280 - accuracy: 0.9918 - val_loss: 0.1696 - val_accuracy: 0.9710\n",
            "Epoch 20/40\n",
            "1875/1875 [==============================] - 6s 3ms/step - loss: 0.0265 - accuracy: 0.9924 - val_loss: 0.1710 - val_accuracy: 0.9711\n",
            "Epoch 21/40\n",
            "1875/1875 [==============================] - 7s 4ms/step - loss: 0.0257 - accuracy: 0.9928 - val_loss: 0.1733 - val_accuracy: 0.9681\n",
            "Epoch 22/40\n",
            "1875/1875 [==============================] - 6s 3ms/step - loss: 0.0222 - accuracy: 0.9937 - val_loss: 0.1796 - val_accuracy: 0.9680\n",
            "Epoch 23/40\n",
            "1875/1875 [==============================] - 7s 4ms/step - loss: 0.0239 - accuracy: 0.9934 - val_loss: 0.1694 - val_accuracy: 0.9694\n",
            "Epoch 24/40\n",
            "1875/1875 [==============================] - 6s 3ms/step - loss: 0.0223 - accuracy: 0.9938 - val_loss: 0.1895 - val_accuracy: 0.9690\n",
            "Epoch 25/40\n",
            "1875/1875 [==============================] - 7s 4ms/step - loss: 0.0225 - accuracy: 0.9935 - val_loss: 0.1784 - val_accuracy: 0.9747\n",
            "Epoch 26/40\n",
            "1875/1875 [==============================] - 7s 4ms/step - loss: 0.0200 - accuracy: 0.9942 - val_loss: 0.1808 - val_accuracy: 0.9689\n",
            "Epoch 27/40\n",
            "1875/1875 [==============================] - 6s 3ms/step - loss: 0.0204 - accuracy: 0.9943 - val_loss: 0.1704 - val_accuracy: 0.9737\n",
            "Epoch 28/40\n",
            "1875/1875 [==============================] - 7s 4ms/step - loss: 0.0170 - accuracy: 0.9952 - val_loss: 0.1861 - val_accuracy: 0.9719\n",
            "Epoch 29/40\n",
            "1875/1875 [==============================] - 6s 3ms/step - loss: 0.0189 - accuracy: 0.9946 - val_loss: 0.1949 - val_accuracy: 0.9720\n",
            "Epoch 30/40\n",
            "1875/1875 [==============================] - 7s 4ms/step - loss: 0.0184 - accuracy: 0.9949 - val_loss: 0.2003 - val_accuracy: 0.9704\n",
            "Epoch 31/40\n",
            "1875/1875 [==============================] - 6s 3ms/step - loss: 0.0152 - accuracy: 0.9957 - val_loss: 0.1886 - val_accuracy: 0.9726\n",
            "Epoch 32/40\n",
            "1875/1875 [==============================] - 7s 4ms/step - loss: 0.0176 - accuracy: 0.9950 - val_loss: 0.1893 - val_accuracy: 0.9732\n",
            "Epoch 33/40\n",
            "1875/1875 [==============================] - 6s 3ms/step - loss: 0.0163 - accuracy: 0.9955 - val_loss: 0.1781 - val_accuracy: 0.9741\n",
            "Epoch 34/40\n",
            "1875/1875 [==============================] - 7s 4ms/step - loss: 0.0147 - accuracy: 0.9959 - val_loss: 0.1957 - val_accuracy: 0.9734\n",
            "Epoch 35/40\n",
            "1875/1875 [==============================] - 6s 3ms/step - loss: 0.0159 - accuracy: 0.9954 - val_loss: 0.1871 - val_accuracy: 0.9717\n",
            "Epoch 36/40\n",
            "1875/1875 [==============================] - 7s 4ms/step - loss: 0.0147 - accuracy: 0.9958 - val_loss: 0.2092 - val_accuracy: 0.9723\n",
            "Epoch 37/40\n",
            "1875/1875 [==============================] - 6s 3ms/step - loss: 0.0134 - accuracy: 0.9966 - val_loss: 0.1909 - val_accuracy: 0.9727\n",
            "Epoch 38/40\n",
            "1875/1875 [==============================] - 6s 3ms/step - loss: 0.0143 - accuracy: 0.9959 - val_loss: 0.1897 - val_accuracy: 0.9735\n",
            "Epoch 39/40\n",
            "1875/1875 [==============================] - 7s 3ms/step - loss: 0.0140 - accuracy: 0.9962 - val_loss: 0.2048 - val_accuracy: 0.9713\n",
            "Epoch 40/40\n",
            "1875/1875 [==============================] - 6s 3ms/step - loss: 0.0143 - accuracy: 0.9966 - val_loss: 0.1909 - val_accuracy: 0.9736\n"
          ]
        },
        {
          "output_type": "execute_result",
          "data": {
            "text/plain": [
              "<keras.callbacks.History at 0x7ffadc398d60>"
            ]
          },
          "metadata": {},
          "execution_count": 75
        }
      ]
    },
    {
      "cell_type": "code",
      "source": [],
      "metadata": {
        "id": "JX3BXhsHO5nb"
      },
      "execution_count": null,
      "outputs": []
    }
  ]
}